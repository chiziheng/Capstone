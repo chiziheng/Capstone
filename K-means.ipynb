{
 "cells": [
  {
   "cell_type": "code",
   "execution_count": 2,
   "id": "every-istanbul",
   "metadata": {},
   "outputs": [],
   "source": [
    "import findspark\n",
    "# TODO: your path will likely not have 'matthew' in it. Change it to reflect your path.\n",
    "findspark.init('/home/chiziheng/spark-3.1.1-bin-hadoop2.7')"
   ]
  },
  {
   "cell_type": "code",
   "execution_count": 106,
   "id": "retained-throat",
   "metadata": {},
   "outputs": [
    {
     "name": "stdout",
     "output_type": "stream",
     "text": [
      "root\n",
      " |-- MotorCurrent: double (nullable = true)\n",
      " |-- OpenCloseStroke: integer (nullable = true)\n",
      " |-- MotorVoltage: integer (nullable = true)\n",
      " |-- SigOpenCommand: integer (nullable = true)\n",
      " |-- SigCloseCommand: integer (nullable = true)\n",
      "\n",
      "22472\n",
      "+------------+---------------+------------+--------------+---------------+--------------------+\n",
      "|MotorCurrent|OpenCloseStroke|MotorVoltage|SigOpenCommand|SigCloseCommand|            features|\n",
      "+------------+---------------+------------+--------------+---------------+--------------------+\n",
      "|         1.6|            133|          47|             0|              1|[1.6,133.0,47.0,0...|\n",
      "|         1.6|            133|          47|             0|              1|[1.6,133.0,47.0,0...|\n",
      "|         0.0|            114|          48|             0|              1|[0.0,114.0,48.0,0...|\n",
      "|         0.0|             95|          48|             0|              1|[0.0,95.0,48.0,0....|\n",
      "|         0.0|             75|          48|             0|              1|[0.0,75.0,48.0,0....|\n",
      "|         0.0|             75|          48|             0|              1|[0.0,75.0,48.0,0....|\n",
      "|         0.0|             55|          48|             1|              0|[0.0,55.0,48.0,1....|\n",
      "|         0.0|             36|          48|             1|              0|[0.0,36.0,48.0,1....|\n",
      "|         0.0|             21|          49|             1|              0|[0.0,21.0,49.0,1....|\n",
      "|         0.0|             13|          48|             1|              0|[0.0,13.0,48.0,1....|\n",
      "|         0.0|             13|          48|             1|              0|[0.0,13.0,48.0,1....|\n",
      "|         0.0|              7|          48|             1|              0|[0.0,7.0,48.0,1.0...|\n",
      "|         0.0|              1|          48|             1|              0|[0.0,1.0,48.0,1.0...|\n",
      "|         0.0|              1|          48|             1|              0|[0.0,1.0,48.0,1.0...|\n",
      "|         0.0|              1|          48|             1|              0|[0.0,1.0,48.0,1.0...|\n",
      "|         0.0|              1|          48|             1|              0|[0.0,1.0,48.0,1.0...|\n",
      "|         0.0|              1|          48|             1|              0|[0.0,1.0,48.0,1.0...|\n",
      "|         0.0|              1|          48|             1|              0|[0.0,1.0,48.0,1.0...|\n",
      "|         0.0|              1|          48|             1|              0|[0.0,1.0,48.0,1.0...|\n",
      "|         0.0|              1|          48|             1|              0|[0.0,1.0,48.0,1.0...|\n",
      "+------------+---------------+------------+--------------+---------------+--------------------+\n",
      "only showing top 20 rows\n",
      "\n"
     ]
    }
   ],
   "source": [
    "##########################Formatting Data##########################\n",
    "from pyspark.ml.clustering import KMeans\n",
    "from pyspark.ml.evaluation import ClusteringEvaluator\n",
    "from pyspark.sql import SparkSession\n",
    "from pyspark.ml.linalg import Vectors\n",
    "from pyspark.sql.functions import col\n",
    "from pyspark.ml.feature import VectorAssembler\n",
    "import matplotlib.pyplot as plt\n",
    "%matplotlib inline\n",
    "\n",
    "spark = SparkSession\\\n",
    "        .builder\\\n",
    "        .appName(\"K-means\")\\\n",
    "        .getOrCreate()\n",
    "# Loads data.\n",
    "dataset = spark.read.option('header',True).format(\"libsvm\").csv(\"70N.csv\", inferSchema=True)\n",
    "dataset=dataset.drop('_c0','DateTime','Door','MotorTemp')\n",
    "dataset.printSchema()\n",
    "print(dataset.count())\n",
    "\n",
    "vecAssembler = VectorAssembler(inputCols=dataset.columns, outputCol=\"features\")\n",
    "dataset = vecAssembler.transform(dataset)\n",
    "dataset.show()"
   ]
  },
  {
   "cell_type": "code",
   "execution_count": 101,
   "id": "coordinated-richmond",
   "metadata": {},
   "outputs": [],
   "source": [
    "##########################Scaling Data##########################\n",
    "from pyspark.ml.feature import StandardScaler\n",
    "scaler=StandardScaler(inputCol='features', outputCol='scaledFeatures',withStd=True,withMean=False)\n",
    "scaledModel=scaler.fit(dataset)\n",
    "df_final=scaledModel.transform(dataset)\n",
    "# df_final.show(truncate=False)"
   ]
  },
  {
   "cell_type": "code",
   "execution_count": 102,
   "id": "classified-genre",
   "metadata": {},
   "outputs": [
    {
     "name": "stdout",
     "output_type": "stream",
     "text": [
      "Silhouette with squared euclidean distance = 0.2190122847383824\n",
      "Cluster Centers: \n",
      "[  0.97318078   1.75744135 101.08387154   1.99995578   0.        ]\n",
      "[4.69516260e-04 1.10631502e-01 1.01682988e+02 1.02766879e+00\n",
      " 9.72286993e-01]\n",
      "[  0.92679148   1.75124382 101.12713307   0.           1.99995578]\n"
     ]
    }
   ],
   "source": [
    "##########################Train and Evaluation##########################\n",
    "kmeans = KMeans(featuresCol='scaledFeatures').setK(3).setSeed(1)\n",
    "model = kmeans.fit(df_final)\n",
    "\n",
    "# Make predictions\n",
    "predictions = model.transform(df_final)\n",
    "\n",
    "# Evaluate clustering by computing Silhouette score\n",
    "evaluator = ClusteringEvaluator()\n",
    "\n",
    "silhouette = evaluator.evaluate(predictions)\n",
    "print(\"Silhouette with squared euclidean distance = \" + str(silhouette))\n",
    "\n",
    "# Shows the result.\n",
    "centers = model.clusterCenters()\n",
    "print(\"Cluster Centers: \")\n",
    "for center in centers:\n",
    "    print(center)"
   ]
  },
  {
   "cell_type": "markdown",
   "id": "worthy-athletics",
   "metadata": {},
   "source": [
    "![Silhouette](Silhouette.PNG)"
   ]
  },
  {
   "cell_type": "code",
   "execution_count": 104,
   "id": "essential-brazilian",
   "metadata": {},
   "outputs": [
    {
     "data": {
      "text/plain": [
       "[0.0002241225491145532,\n",
       " 0.2190122847383824,\n",
       " -0.12978334217301363,\n",
       " -0.13393551807749485,\n",
       " -0.20604235126795348,\n",
       " -0.20138273627897693,\n",
       " -0.26363871910328135,\n",
       " -0.2607085040269855]"
      ]
     },
     "execution_count": 104,
     "metadata": {},
     "output_type": "execute_result"
    }
   ],
   "source": [
    "##########################Find best number of Clusters##########################\n",
    "silhouette_score=[]\n",
    "for i in range(2,10):\n",
    "    kmeans = KMeans(featuresCol='scaledFeatures').setK(i).setSeed(1)\n",
    "    model = kmeans.fit(df_final)\n",
    "    \n",
    "    predictions=model.transform(df_final)\n",
    "    \n",
    "    evaluator=ClusteringEvaluator()\n",
    "    \n",
    "    Silhouette=evaluator.evaluate(predictions)\n",
    "    \n",
    "    silhouette_score.append(Silhouette)\n",
    "silhouette_score"
   ]
  },
  {
   "cell_type": "code",
   "execution_count": 110,
   "id": "genetic-victor",
   "metadata": {},
   "outputs": [
    {
     "data": {
      "text/plain": [
       "[<matplotlib.lines.Line2D at 0x7f8fdf15e4c0>]"
      ]
     },
     "execution_count": 110,
     "metadata": {},
     "output_type": "execute_result"
    },
    {
     "data": {
      "image/png": "[encoded data removed]",
      "text/plain": [
       "<Figure size 432x288 with 1 Axes>"
      ]
     },
     "metadata": {
      "needs_background": "light"
     },
     "output_type": "display_data"
    }
   ],
   "source": [
    "plt.plot([i for i in range(2,10)],silhouette_score)"
   ]
  },
  {
   "cell_type": "code",
   "execution_count": null,
   "id": "collectible-terry",
   "metadata": {},
   "outputs": [],
   "source": [
    "# for columns in dataset.columns:\n",
    "#     dataset.schema[columns].nullable=False\n",
    "#     dataset=dataset.withColumn(columns,dataset[columns].cast('float'))\n",
    "#     dataset.filter(col(columns).isNull()).show()\n",
    "\n",
    "\n",
    "# for columns in dataset.columns:\n",
    "#     dataset.filter(col(columns).isNull()).show()\n",
    "\n",
    "# dataset.show(truncate=False)"
   ]
  }
 ],
 "metadata": {
  "kernelspec": {
   "display_name": "Python 3",
   "language": "python",
   "name": "python3"
  },
  "language_info": {
   "codemirror_mode": {
    "name": "ipython",
    "version": 3
   },
   "file_extension": ".py",
   "mimetype": "text/x-python",
   "name": "python",
   "nbconvert_exporter": "python",
   "pygments_lexer": "ipython3",
   "version": "3.8.5"
  }
 },
 "nbformat": 4,
 "nbformat_minor": 5
}
