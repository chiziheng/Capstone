{
 "cells": [
  {
   "cell_type": "code",
   "execution_count": 1,
   "id": "understanding-calculation",
   "metadata": {},
   "outputs": [],
   "source": [
    "import findspark\n",
    "# TODO: your path will likely not have 'matthew' in it. Change it to reflect your path.\n",
    "findspark.init('/home/chiziheng/spark-3.1.1-bin-hadoop2.7')"
   ]
  },
  {
   "cell_type": "code",
   "execution_count": 2,
   "id": "entire-coordinator",
   "metadata": {},
   "outputs": [],
   "source": [
    "import os\n",
    "import sys\n",
    "\n",
    "from pyspark.sql import SparkSession\n",
    "from pyspark.sql.functions import explode, current_timestamp\n",
    "from pyspark.sql.functions import split\n",
    "from pyspark.sql.functions import window\n",
    "from pyspark.sql.types import StructType, TimestampType"
   ]
  },
  {
   "cell_type": "code",
   "execution_count": 3,
   "id": "thick-american",
   "metadata": {},
   "outputs": [],
   "source": [
    "spark = SparkSession.builder.appName(\"test_stream_from_csv\").getOrCreate()"
   ]
  },
  {
   "cell_type": "code",
   "execution_count": 4,
   "id": "controlled-italic",
   "metadata": {},
   "outputs": [],
   "source": [
    "userSchema = StructType()\\\n",
    "              .add(\"_c0\", \"integer\")\\\n",
    "              .add(\"DateTime\", TimestampType())\\\n",
    "              .add(\"Door\", \"integer\")\\\n",
    "              .add(\"MotorTemp\", \"integer\")\\\n",
    "              .add(\"MotorCurrent\",\"integer\")\\\n",
    "              .add(\"OpenCloseStroke\",\"integer\")\\\n",
    "              .add(\"MotorVoltage\",\"integer\")\\\n",
    "              .add(\"SigOpenCommand\",\"integer\")\\\n",
    "              .add(\"SigCloseCommand\",\"integer\")"
   ]
  },
  {
   "cell_type": "code",
   "execution_count": 5,
   "id": "hollow-desktop",
   "metadata": {},
   "outputs": [],
   "source": [
    "lines = spark.readStream.format(\"socket\").option(\"host\", \"localhost\").option(\"port\", 12344).load()"
   ]
  },
  {
   "cell_type": "code",
   "execution_count": 6,
   "id": "union-stream",
   "metadata": {},
   "outputs": [],
   "source": [
    "query = lines.writeStream.outputMode(\"append\").format(\"console\").option(\"truncate\", False).start()"
   ]
  },
  {
   "cell_type": "code",
   "execution_count": 7,
   "id": "limited-gather",
   "metadata": {},
   "outputs": [],
   "source": [
    "query.stop()"
   ]
  },
  {
   "cell_type": "code",
   "execution_count": null,
   "id": "pregnant-gospel",
   "metadata": {},
   "outputs": [],
   "source": [
    "# Create query stream with memory sink\n",
    "queryStream = (df_count\n",
    " .writeStream\n",
    " .format(\"memory\")\n",
    " .queryName(\"wiki_changes\")\n",
    " .outputMode(\"update\")\n",
    " .start())\n",
    "In [5]:\n",
    "from time import sleep\n",
    "from IPython.display import clear_output\n",
    "import seaborn as sns\n",
    "import matplotlib\n",
    "import matplotlib.pyplot as plt\n",
    "\n",
    "matplotlib.rc('font', family='DejaVu Sans')\n",
    "sns.set(style=\"whitegrid\")\n",
    "\n",
    "\n",
    "try:\n",
    "    i=1\n",
    "    while True:\n",
    "        # Clear output\n",
    "        clear_output(wait=True)\n",
    "        print(\"**********************\")\n",
    "        print(\"General Info\")\n",
    "        print(\"**********************\")\n",
    "        print(\"Run:{}\".format(i))\n",
    "        if (len(queryStream.recentProgress) > 0):\n",
    "            print(\"Stream timestamp:{}\".format(queryStream.lastProgress[\"timestamp\"]))\n",
    "            print(\"Watermark:{}\".format(queryStream.lastProgress[\"eventTime\"][\"watermark\"]))\n",
    "            print(\"Total Rows:{}\".format(queryStream.lastProgress[\"stateOperators\"][0][\"numRowsTotal\"]))\n",
    "            print(\"Updated Rows:{}\".format(queryStream.lastProgress[\"stateOperators\"][0][\"numRowsUpdated\"]))\n",
    "            print(\"Memory used MB:{}\".format((queryStream.lastProgress[\"stateOperators\"][0][\"memoryUsedBytes\"]) * 0.000001))\n",
    "            \n",
    "        df = spark.sql(\n",
    "                \"\"\"\n",
    "                    select\n",
    "                        window.start\n",
    "                        ,window.end\n",
    "                        ,user\n",
    "                        ,sum(count) count\n",
    "                    from\n",
    "                        wiki_changes\n",
    "                    where\n",
    "                        window.start = (select max(window.start) from wiki_changes)\n",
    "                    group by\n",
    "                        window.start\n",
    "                        ,window.end\n",
    "                        ,user\n",
    "                    order by\n",
    "                        4 desc\n",
    "                    limit 10\n",
    "                \"\"\"\n",
    "        ).toPandas()\n",
    "\n",
    "        # Plot the total crashes\n",
    "        sns.set_color_codes(\"muted\")\n",
    "\n",
    "        # Initialize the matplotlib figure\n",
    "        plt.figure(figsize=(8,6))\n",
    "\n",
    "        print(\"**********************\")\n",
    "        print(\"Graph - Top 10 users\")\n",
    "        print(\"**********************\")\n",
    "        try:\n",
    "            # Barplot\n",
    "            sns.barplot(x=\"count\", y=\"user\", data=df)\n",
    "\n",
    "            # Show barplot\n",
    "            plt.show()\n",
    "        except ValueError:\n",
    "            # If Dataframe is empty, pass\n",
    "            pass\n",
    "\n",
    "        print(\"**********************\")\n",
    "        print(\"Table - Top 10 users\")\n",
    "        print(\"**********************\")\n",
    "        display(df)\n",
    "        \n",
    "        print(\"**********************\")\n",
    "        print(\"Table - Count by aggregation window\")\n",
    "        print(\"**********************\")\n",
    "        df1 = spark.sql(\n",
    "                \"\"\"\n",
    "                    select\n",
    "                        window.start\n",
    "                        ,window.end\n",
    "                        ,sum(count) qty_lines\n",
    "                        ,count(distinct user) qty_users\n",
    "                    from\n",
    "                        wiki_changes\n",
    "                    group by\n",
    "                        window.start\n",
    "                        ,window.end\n",
    "                    order by\n",
    "                        window.start desc\n",
    "                \"\"\"\n",
    "        ).toPandas()\n",
    "        \n",
    "        display(df1)\n",
    "        \n",
    "        sleep(10)\n",
    "        i=i+1\n",
    "except KeyboardInterrupt:\n",
    "    print(\"process interrupted.\")"
   ]
  },
  {
   "cell_type": "code",
   "execution_count": 9,
   "id": "tutorial-backing",
   "metadata": {},
   "outputs": [
    {
     "name": "stdout",
     "output_type": "stream",
     "text": [
      "+---------+-----+\n",
      "|timestamp|value|\n",
      "+---------+-----+\n",
      "+---------+-----+\n",
      "\n",
      "+-----+\n",
      "|value|\n",
      "+-----+\n",
      "+-----+\n",
      "\n"
     ]
    }
   ],
   "source": [
    "def stop_stream_query(query, wait_time):\n",
    "    \"\"\"Stop a running streaming query\"\"\"\n",
    "    while query.isActive:\n",
    "        msg = query.status['message']\n",
    "        data_avail = query.status['isDataAvailable']\n",
    "        trigger_active = query.status['isTriggerActive']\n",
    "        if not data_avail and not trigger_active and msg != \"Initializing sources\":\n",
    "            print('Stopping query...')\n",
    "            query.stop()\n",
    "        time.sleep(0.5)\n",
    "\n",
    "    # Okay wait for the stop to happen\n",
    "    print('Awaiting termination...')\n",
    "    query.awaitTermination(wait_time)"
   ]
  },
  {
   "cell_type": "code",
   "execution_count": 8,
   "id": "stylish-nursing",
   "metadata": {},
   "outputs": [],
   "source": [
    "activity=spark.readStream \\\n",
    "    .format('rate')\\\n",
    "    .option('rowsPerSecond',3)\\\n",
    "    .csv(path='/home/chiziheng/Downloads/pyspark-streaming/5_structured/test_stream_csv', schema=userSchema)"
   ]
  },
  {
   "cell_type": "code",
   "execution_count": 9,
   "id": "hindu-minimum",
   "metadata": {},
   "outputs": [],
   "source": [
    "query = activity\\\n",
    "          .writeStream\\\n",
    "          .trigger(processingTime='3 seconds')\\\n",
    "          .format(\"console\")\\\n",
    "          .start()"
   ]
  },
  {
   "cell_type": "code",
   "execution_count": 17,
   "id": "fixed-michael",
   "metadata": {},
   "outputs": [
    {
     "data": {
      "text/plain": [
       "'/home/chiziheng/Downloads/pyspark-streaming/5_structured'"
      ]
     },
     "execution_count": 17,
     "metadata": {},
     "output_type": "execute_result"
    }
   ],
   "source": [
    "%pwd"
   ]
  },
  {
   "cell_type": "code",
   "execution_count": null,
   "id": "amber-logging",
   "metadata": {},
   "outputs": [],
   "source": [
    "# df = spark.read.load(\"70N.csv\", format=\"csv\", sep=\",\", inferSchema=\"true\", header=\"true\")\n",
    "# df.createOrReplaceTempView('70N_table')\n",
    "# df.printSchema()\n",
    "# spark.sql(\"select DateTime, MotorCurrent from 70N_table\").show(50)"
   ]
  },
  {
   "cell_type": "code",
   "execution_count": null,
   "id": "complex-ranking",
   "metadata": {},
   "outputs": [],
   "source": []
  }
 ],
 "metadata": {
  "kernelspec": {
   "display_name": "Python 3",
   "language": "python",
   "name": "python3"
  },
  "language_info": {
   "codemirror_mode": {
    "name": "ipython",
    "version": 3
   },
   "file_extension": ".py",
   "mimetype": "text/x-python",
   "name": "python",
   "nbconvert_exporter": "python",
   "pygments_lexer": "ipython3",
   "version": "3.8.5"
  }
 },
 "nbformat": 4,
 "nbformat_minor": 5
}
