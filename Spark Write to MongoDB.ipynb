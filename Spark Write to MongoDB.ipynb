{
 "cells": [
  {
   "cell_type": "code",
   "execution_count": null,
   "id": "vietnamese-security",
   "metadata": {},
   "outputs": [],
   "source": [
    "import findspark\n",
    "findspark.init('/home/chiziheng/spark-3.1.1-bin-hadoop2.7')"
   ]
  },
  {
   "cell_type": "code",
   "execution_count": null,
   "id": "positive-eating",
   "metadata": {},
   "outputs": [],
   "source": [
    "import os\n",
    "import sys\n",
    "\n",
    "from pyspark.sql import SparkSession\n",
    "from pyspark.sql.functions import explode, current_timestamp\n",
    "from pyspark.sql.functions import split\n",
    "from pyspark.sql.functions import window\n",
    "from pyspark.sql.types import StructType, TimestampType"
   ]
  },
  {
   "cell_type": "code",
   "execution_count": null,
   "id": "accepted-electronics",
   "metadata": {},
   "outputs": [],
   "source": [
    "def save(message,epoch_id):\n",
    "    message.write \\\n",
    "        .format(\"mongo\") \\\n",
    "        .mode(\"append\") \\\n",
    "        .save()\n",
    "    pass\n",
    "\n",
    "spark = SparkSession \\\n",
    "    .builder \\\n",
    "    .appName(\"MyApp\") \\\n",
    "    .config(\"spark.mongodb.input.uri\", \"mongodb://localhost:27017/psd_db.psd_collection\") \\\n",
    "    .config(\"spark.mongodb.output.uri\", \"mongodb://localhost:27017/psd_db.psd_collection\") \\\n",
    "    .config(\"spark.jars.packages\", \"org.mongodb.spark:mongo-spark-connector_2.12:3.0.1\") \\\n",
    "    .master(\"local\") \\\n",
    "    .getOrCreate()\n",
    "\n",
    "DataFrame = spark \\\n",
    "    .readStream \\\n",
    "    .format(\"socket\") \\\n",
    "    .option(\"host\", \"localhost\") \\\n",
    "    .option(\"port\", 12341) \\\n",
    "    .load()\n",
    "\n",
    "StreamingQuery = DataFrame\\\n",
    "    .writeStream \\\n",
    "    .foreachBatch(save) \\\n",
    "    .start()\n",
    "\n",
    "StreamingQuery.awaitTermination()"
   ]
  },
  {
   "cell_type": "code",
   "execution_count": null,
   "id": "heated-muslim",
   "metadata": {},
   "outputs": [],
   "source": [
    "spark = SparkSession \\\n",
    "    .builder \\\n",
    "    .appName(\"MyApp\") \\\n",
    "    .master(\"local\") \\\n",
    "    .getOrCreate()\n",
    "\n",
    "DataFrame = spark \\\n",
    "    .readStream \\\n",
    "    .format(\"kafka\") \\\n",
    "    .option(\"kafka.bootstrap.servers\", \"100.26.182.4:9092\") \\\n",
    "    .option(\"subscribe\", \"testDB.dbo.fruit\") \\\n",
    "    .load()"
   ]
  },
  {
   "cell_type": "code",
   "execution_count": null,
   "id": "brief-beauty",
   "metadata": {},
   "outputs": [],
   "source": [
    "StreamingQuery.stop()"
   ]
  }
 ],
 "metadata": {
  "kernelspec": {
   "display_name": "Python 3",
   "language": "python",
   "name": "python3"
  },
  "language_info": {
   "codemirror_mode": {
    "name": "ipython",
    "version": 3
   },
   "file_extension": ".py",
   "mimetype": "text/x-python",
   "name": "python",
   "nbconvert_exporter": "python",
   "pygments_lexer": "ipython3",
   "version": "3.8.5"
  }
 },
 "nbformat": 4,
 "nbformat_minor": 5
}
